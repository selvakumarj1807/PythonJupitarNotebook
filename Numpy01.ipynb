{
 "cells": [
  {
   "cell_type": "markdown",
   "id": "1e3d1a22-0bfc-42a7-9be4-4b05de6ee723",
   "metadata": {},
   "source": [
    "What is NumPy?\n",
    "---------------\n",
    "    1. NumPy stands for Numerical Python.\n",
    "    2. NumPy is a Python library used for working with arrays.\n",
    "    3. It also has functions for working in domain of linear algebra, fourier transform, and matrices.\n",
    "\n",
    "Why Use NumPy?\n",
    "---------------\n",
    "    1. In Python we have lists that serve the purpose of arrays, but they are slow to process.\n",
    "    2. NumPy aims to provide an array object that is up to 50x faster than traditional Python lists.\n",
    "    3. The array object in NumPy is called ndarray\n",
    "\n",
    "Why is NumPy Faster Than Lists?\n",
    "--------------------------------\n",
    "    1. NumPy arrays are stored at one continuous place in memory unlike lists, so processes can access and manipulate them very efficiently.\n"
   ]
  },
  {
   "cell_type": "markdown",
   "id": "fd942da9-08f7-40c6-a656-ff71b4b1a17a",
   "metadata": {},
   "source": [
    "Creating NumPy Arrays :\n",
    "-----------------------\n",
    "From a Python List :\n",
    "--------------------\n",
    "    1. We can create an array by directly converting a list or list of lists:"
   ]
  },
  {
   "cell_type": "code",
   "execution_count": 1,
   "id": "8e9aff40-f809-4b4b-b7a5-f174d9be6129",
   "metadata": {},
   "outputs": [],
   "source": [
    "import numpy as np"
   ]
  },
  {
   "cell_type": "code",
   "execution_count": 2,
   "id": "866be421-c185-4ebc-b933-86a372021d9b",
   "metadata": {},
   "outputs": [
    {
     "name": "stdout",
     "output_type": "stream",
     "text": [
      "[1, 2, 3] <class 'list'>\n"
     ]
    }
   ],
   "source": [
    "my_list = [1,2,3]\n",
    "print(my_list,type(my_list))"
   ]
  },
  {
   "cell_type": "code",
   "execution_count": 3,
   "id": "bbfc913e-8014-4d14-951c-581572ecc326",
   "metadata": {},
   "outputs": [
    {
     "name": "stdout",
     "output_type": "stream",
     "text": [
      "[1 2 3] <class 'numpy.ndarray'>\n"
     ]
    }
   ],
   "source": [
    "a = np.array(my_list)\n",
    "\n",
    "print(a,type(a))"
   ]
  },
  {
   "cell_type": "code",
   "execution_count": 8,
   "id": "638a852a-1e64-4b96-9ebc-488cdd5682a3",
   "metadata": {},
   "outputs": [
    {
     "name": "stdout",
     "output_type": "stream",
     "text": [
      "[10 20 30 40 50] <class 'numpy.ndarray'>\n"
     ]
    }
   ],
   "source": [
    "# One Dimention array\n",
    "\n",
    "n1 = np.array([10,20,30,40,50])\n",
    "\n",
    "print(n1,type(n1))"
   ]
  },
  {
   "cell_type": "code",
   "execution_count": 5,
   "id": "8fdbf321-891c-407f-bcb2-4bde6207bcf0",
   "metadata": {},
   "outputs": [
    {
     "name": "stdout",
     "output_type": "stream",
     "text": [
      "[[1 2 3 4]\n",
      " [4 3 2 1]]\n"
     ]
    }
   ],
   "source": [
    "# Two Dimention array or Multi Dimention array\n",
    "\n",
    "my_matrix1 = np.array([[1,2,3,4],[4,3,2,1]])\n",
    "\n",
    "print(my_matrix1)"
   ]
  },
  {
   "cell_type": "code",
   "execution_count": 9,
   "id": "db951f36-031d-4dd5-bf56-7fee8511cf4c",
   "metadata": {},
   "outputs": [
    {
     "name": "stdout",
     "output_type": "stream",
     "text": [
      "[[1 2 3 4]\n",
      " [4 3 2 1]\n",
      " [1 3 2 1]]\n"
     ]
    }
   ],
   "source": [
    "# Three Dimention array or Multi Dimention array\n",
    "\n",
    "my_matrix2 = np.array([[1,2,3,4],[4,3,2,1],[1,3,2,1]])\n",
    "\n",
    "print(my_matrix2)"
   ]
  },
  {
   "cell_type": "markdown",
   "id": "5b153812-bc81-4483-b669-ac4d9081e421",
   "metadata": {},
   "source": [
    "Arange :\n",
    "--------\n",
    "    1. Return evenly spaced values within a given interval."
   ]
  },
  {
   "cell_type": "code",
   "execution_count": 8,
   "id": "98b97dfd-d9fe-4f68-9767-bafd25d99bf9",
   "metadata": {},
   "outputs": [
    {
     "data": {
      "text/plain": [
       "array([0, 1, 2, 3, 4, 5, 6, 7, 8, 9])"
      ]
     },
     "execution_count": 8,
     "metadata": {},
     "output_type": "execute_result"
    }
   ],
   "source": [
    "np.arange(0,10)"
   ]
  },
  {
   "cell_type": "code",
   "execution_count": 9,
   "id": "0ce14c3c-896f-4b1b-b886-6f65aaab4eef",
   "metadata": {},
   "outputs": [
    {
     "data": {
      "text/plain": [
       "array([ 0,  2,  4,  6,  8, 10])"
      ]
     },
     "execution_count": 9,
     "metadata": {},
     "output_type": "execute_result"
    }
   ],
   "source": [
    "np.arange(0,11,2)"
   ]
  },
  {
   "cell_type": "markdown",
   "id": "4fc7ad6e-25e7-40c6-a0f6-a47f38405003",
   "metadata": {},
   "source": [
    "zeros and ones :\n",
    "----------------\n",
    "    1. Generate arrays of zeros or ones"
   ]
  },
  {
   "cell_type": "code",
   "execution_count": 10,
   "id": "729431a3-5b5b-4222-bdb2-3e95a230bf91",
   "metadata": {},
   "outputs": [
    {
     "data": {
      "text/plain": [
       "array([0., 0., 0.])"
      ]
     },
     "execution_count": 10,
     "metadata": {},
     "output_type": "execute_result"
    }
   ],
   "source": [
    "np.zeros(3)"
   ]
  },
  {
   "cell_type": "code",
   "execution_count": 11,
   "id": "d749b8a5-d663-40bb-8364-4cd294d8716b",
   "metadata": {},
   "outputs": [
    {
     "data": {
      "text/plain": [
       "array([[0., 0., 0., 0., 0.],\n",
       "       [0., 0., 0., 0., 0.],\n",
       "       [0., 0., 0., 0., 0.],\n",
       "       [0., 0., 0., 0., 0.],\n",
       "       [0., 0., 0., 0., 0.]])"
      ]
     },
     "execution_count": 11,
     "metadata": {},
     "output_type": "execute_result"
    }
   ],
   "source": [
    "np.zeros((5,5))"
   ]
  },
  {
   "cell_type": "code",
   "execution_count": 12,
   "id": "e6b614ea-09dd-44ad-8a27-2fc4beb7ffdb",
   "metadata": {},
   "outputs": [
    {
     "data": {
      "text/plain": [
       "array([1., 1., 1.])"
      ]
     },
     "execution_count": 12,
     "metadata": {},
     "output_type": "execute_result"
    }
   ],
   "source": [
    "np.ones(3)"
   ]
  },
  {
   "cell_type": "code",
   "execution_count": 10,
   "id": "15c3af1b-8100-4a41-a57f-2a0b7925b91a",
   "metadata": {},
   "outputs": [
    {
     "data": {
      "text/plain": [
       "array([[1, 1, 1],\n",
       "       [1, 1, 1],\n",
       "       [1, 1, 1]])"
      ]
     },
     "execution_count": 10,
     "metadata": {},
     "output_type": "execute_result"
    }
   ],
   "source": [
    "np.ones((3,3), dtype=int)"
   ]
  },
  {
   "cell_type": "markdown",
   "id": "32d0b84a-38cf-4e47-a4e9-8905182fba0c",
   "metadata": {},
   "source": [
    "Linspace :\n",
    "----------\n",
    "    1. Return evenly spaced numbers over a specified interval."
   ]
  },
  {
   "cell_type": "code",
   "execution_count": 14,
   "id": "b11460c2-ae9e-42d1-8b3d-ec26350e187c",
   "metadata": {},
   "outputs": [
    {
     "data": {
      "text/plain": [
       "array([ 0.,  5., 10.])"
      ]
     },
     "execution_count": 14,
     "metadata": {},
     "output_type": "execute_result"
    }
   ],
   "source": [
    "np.linspace(0,10,3)"
   ]
  },
  {
   "cell_type": "code",
   "execution_count": 12,
   "id": "3d2b8721-0dd4-45a8-93a9-9340272048a9",
   "metadata": {},
   "outputs": [
    {
     "data": {
      "text/plain": [
       "array([ 0.        ,  0.20408163,  0.40816327,  0.6122449 ,  0.81632653,\n",
       "        1.02040816,  1.2244898 ,  1.42857143,  1.63265306,  1.83673469,\n",
       "        2.04081633,  2.24489796,  2.44897959,  2.65306122,  2.85714286,\n",
       "        3.06122449,  3.26530612,  3.46938776,  3.67346939,  3.87755102,\n",
       "        4.08163265,  4.28571429,  4.48979592,  4.69387755,  4.89795918,\n",
       "        5.10204082,  5.30612245,  5.51020408,  5.71428571,  5.91836735,\n",
       "        6.12244898,  6.32653061,  6.53061224,  6.73469388,  6.93877551,\n",
       "        7.14285714,  7.34693878,  7.55102041,  7.75510204,  7.95918367,\n",
       "        8.16326531,  8.36734694,  8.57142857,  8.7755102 ,  8.97959184,\n",
       "        9.18367347,  9.3877551 ,  9.59183673,  9.79591837, 10.        ])"
      ]
     },
     "execution_count": 12,
     "metadata": {},
     "output_type": "execute_result"
    }
   ],
   "source": [
    "np.linspace(0,10,50)"
   ]
  },
  {
   "cell_type": "code",
   "execution_count": 13,
   "id": "310ce1e8-edae-4c54-8645-2d509acae926",
   "metadata": {},
   "outputs": [
    {
     "data": {
      "text/plain": [
       "array([ 0,  0,  0,  0,  0,  1,  1,  1,  1,  1,  2,  2,  2,  2,  2,  3,  3,\n",
       "        3,  3,  3,  4,  4,  4,  4,  4,  5,  5,  5,  5,  5,  6,  6,  6,  6,\n",
       "        6,  7,  7,  7,  7,  7,  8,  8,  8,  8,  8,  9,  9,  9,  9, 10])"
      ]
     },
     "execution_count": 13,
     "metadata": {},
     "output_type": "execute_result"
    }
   ],
   "source": [
    "np.linspace(0, 10, 50, dtype=int,)"
   ]
  },
  {
   "cell_type": "markdown",
   "id": "71ff2060-6cf8-45e0-aa63-a3ae21a4500b",
   "metadata": {},
   "source": [
    "Eye :\n",
    "-----\n",
    "\n",
    "    1. Creates an identity matrix"
   ]
  },
  {
   "cell_type": "code",
   "execution_count": 16,
   "id": "772d69cb-99bd-45f3-a7ad-1d1c4e906baf",
   "metadata": {},
   "outputs": [
    {
     "data": {
      "text/plain": [
       "array([[1., 0.],\n",
       "       [0., 1.]])"
      ]
     },
     "execution_count": 16,
     "metadata": {},
     "output_type": "execute_result"
    }
   ],
   "source": [
    "np.eye(2)"
   ]
  },
  {
   "cell_type": "code",
   "execution_count": 17,
   "id": "1348b4b5-0cc3-46d6-9cf8-dda258286ae1",
   "metadata": {},
   "outputs": [
    {
     "data": {
      "text/plain": [
       "array([[1., 0., 0., 0., 0., 0., 0., 0., 0., 0.],\n",
       "       [0., 1., 0., 0., 0., 0., 0., 0., 0., 0.]])"
      ]
     },
     "execution_count": 17,
     "metadata": {},
     "output_type": "execute_result"
    }
   ],
   "source": [
    "np.eye(2,10)"
   ]
  },
  {
   "cell_type": "code",
   "execution_count": 3,
   "id": "31628b8c-d04c-4575-8e07-05c6e01bb3bf",
   "metadata": {},
   "outputs": [
    {
     "data": {
      "text/plain": [
       "array([[0., 1., 0.],\n",
       "       [0., 0., 1.],\n",
       "       [0., 0., 0.]])"
      ]
     },
     "execution_count": 3,
     "metadata": {},
     "output_type": "execute_result"
    }
   ],
   "source": [
    "np.eye(3, k=1)"
   ]
  },
  {
   "cell_type": "code",
   "execution_count": 7,
   "id": "40523f67-5d48-4dc4-9ec1-74f8a668989f",
   "metadata": {},
   "outputs": [
    {
     "data": {
      "text/plain": [
       "array([[1, 0, 0, 0, 0, 0, 0, 0, 0, 0],\n",
       "       [0, 1, 0, 0, 0, 0, 0, 0, 0, 0]])"
      ]
     },
     "execution_count": 7,
     "metadata": {},
     "output_type": "execute_result"
    }
   ],
   "source": [
    "np.eye(2,10, dtype=int)"
   ]
  },
  {
   "cell_type": "markdown",
   "id": "0748e226-79c3-49c9-895e-6cba57af57b2",
   "metadata": {},
   "source": [
    "Random :\n",
    "--------\n",
    "    Numpy also has lots of ways to create random number arrays:\n",
    "\n",
    "rand :\n",
    "------\n",
    "    Create an array of the given shape and populate it with random samples from a uniform distribution over [0, 1)."
   ]
  },
  {
   "cell_type": "code",
   "execution_count": 25,
   "id": "a1809adb-aec7-43ec-99e5-14610b99c529",
   "metadata": {},
   "outputs": [
    {
     "data": {
      "text/plain": [
       "array([0.19352864, 0.83738102])"
      ]
     },
     "execution_count": 25,
     "metadata": {},
     "output_type": "execute_result"
    }
   ],
   "source": [
    "np.random.rand(2)"
   ]
  },
  {
   "cell_type": "code",
   "execution_count": 41,
   "id": "a2c022ce-4a52-49ee-b7c8-8104d2a8df5a",
   "metadata": {},
   "outputs": [
    {
     "data": {
      "text/plain": [
       "array([[0.22073894, 0.04101758],\n",
       "       [0.83505864, 0.78859086],\n",
       "       [0.99926656, 0.49199979]])"
      ]
     },
     "execution_count": 41,
     "metadata": {},
     "output_type": "execute_result"
    }
   ],
   "source": [
    "np.random.rand(3,2)"
   ]
  },
  {
   "cell_type": "markdown",
   "id": "f7756c9e-def6-4b28-9226-dc857c32dabc",
   "metadata": {},
   "source": [
    "randn :\n",
    "-------\n",
    "    Return a sample (or samples) from the \"standard normal\" distribution. Unlike rand which is uniform:"
   ]
  },
  {
   "cell_type": "code",
   "execution_count": 36,
   "id": "5db575de-7e08-4f2e-9053-ad41ee164225",
   "metadata": {},
   "outputs": [
    {
     "data": {
      "text/plain": [
       "0.10462972188642589"
      ]
     },
     "execution_count": 36,
     "metadata": {},
     "output_type": "execute_result"
    }
   ],
   "source": [
    "np.random.randn()"
   ]
  },
  {
   "cell_type": "code",
   "execution_count": 28,
   "id": "7850ad47-3cea-4f14-9d9c-73f1231488ae",
   "metadata": {},
   "outputs": [
    {
     "data": {
      "text/plain": [
       "array([-0.24016306, -0.13054033])"
      ]
     },
     "execution_count": 28,
     "metadata": {},
     "output_type": "execute_result"
    }
   ],
   "source": [
    "np.random.randn(2)"
   ]
  },
  {
   "cell_type": "code",
   "execution_count": 39,
   "id": "f090fb5b-e098-4e57-b816-43c2fd6b4a09",
   "metadata": {},
   "outputs": [
    {
     "data": {
      "text/plain": [
       "array([[ 1.28355111,  0.76060513, -0.58160699, -2.28990943],\n",
       "       [ 1.78545377, -0.69013819, -0.99262149,  0.14448306]])"
      ]
     },
     "execution_count": 39,
     "metadata": {},
     "output_type": "execute_result"
    }
   ],
   "source": [
    "np.random.randn(2, 4)"
   ]
  },
  {
   "cell_type": "code",
   "execution_count": 15,
   "id": "4c3e59f2-5bf2-4958-b91d-1502a0c27a0a",
   "metadata": {},
   "outputs": [
    {
     "data": {
      "text/plain": [
       "array([[ 2.10143186,  1.05532344,  1.00018533],\n",
       "       [-2.24019568, -0.51046573, -1.58296663]])"
      ]
     },
     "execution_count": 15,
     "metadata": {},
     "output_type": "execute_result"
    }
   ],
   "source": [
    "np.random.randn(2, 3)"
   ]
  },
  {
   "cell_type": "markdown",
   "id": "e8070c7d-b0fc-44ee-ba2b-979e3bf98b96",
   "metadata": {},
   "source": [
    "Randint :\n",
    "---------\n",
    "\n",
    "    Return random integers from low (inclusive) to high (exclusive)."
   ]
  },
  {
   "cell_type": "code",
   "execution_count": 16,
   "id": "9631ce7a-4788-474c-a7ae-1c9f18d77e34",
   "metadata": {},
   "outputs": [
    {
     "data": {
      "text/plain": [
       "23"
      ]
     },
     "execution_count": 16,
     "metadata": {},
     "output_type": "execute_result"
    }
   ],
   "source": [
    "np.random.randint(1,100)"
   ]
  },
  {
   "cell_type": "code",
   "execution_count": 19,
   "id": "a56aa656-fab9-412b-9c87-a5c15d905f1d",
   "metadata": {},
   "outputs": [
    {
     "data": {
      "text/plain": [
       "array([65, 42, 96, 36, 93, 92, 48, 37, 25, 70], dtype=int32)"
      ]
     },
     "execution_count": 19,
     "metadata": {},
     "output_type": "execute_result"
    }
   ],
   "source": [
    "a = np.random.randint(1,100,10)\n",
    "\n",
    "a"
   ]
  },
  {
   "cell_type": "markdown",
   "id": "2ca19ddc-ce00-40c3-8ba2-1965dbb2a8aa",
   "metadata": {},
   "source": [
    "Array Attributes and Methods\n",
    "----------------------------\n",
    "\n",
    "Let's discuss some useful attributes and methods or an array:\n",
    "-------------------------------------------------------------"
   ]
  },
  {
   "cell_type": "code",
   "execution_count": 21,
   "id": "0d871a1d-00ab-4f19-90e0-21b8d3783d38",
   "metadata": {},
   "outputs": [],
   "source": [
    "arr = np.arange(25)\n",
    "\n",
    "ranarr = np.random.randint(0,50,10)"
   ]
  },
  {
   "cell_type": "code",
   "execution_count": 22,
   "id": "1024623d-b413-414d-850b-9f00af157ff2",
   "metadata": {},
   "outputs": [
    {
     "data": {
      "text/plain": [
       "array([ 0,  1,  2,  3,  4,  5,  6,  7,  8,  9, 10, 11, 12, 13, 14, 15, 16,\n",
       "       17, 18, 19, 20, 21, 22, 23, 24])"
      ]
     },
     "execution_count": 22,
     "metadata": {},
     "output_type": "execute_result"
    }
   ],
   "source": [
    "arr"
   ]
  },
  {
   "cell_type": "code",
   "execution_count": 23,
   "id": "37215e73-ab43-4b01-a428-8210fa1d8792",
   "metadata": {},
   "outputs": [
    {
     "data": {
      "text/plain": [
       "array([27, 31,  8, 24, 41,  3, 18, 42, 42, 40], dtype=int32)"
      ]
     },
     "execution_count": 23,
     "metadata": {},
     "output_type": "execute_result"
    }
   ],
   "source": [
    "ranarr"
   ]
  },
  {
   "cell_type": "markdown",
   "id": "131eac8e-5255-48c6-a906-372839f6ef60",
   "metadata": {},
   "source": [
    "01 Reshape :\n",
    "------------\n",
    "    Returns an array containing the same data with a new shape."
   ]
  },
  {
   "cell_type": "code",
   "execution_count": 29,
   "id": "c4dde5c0-38fd-4e26-a345-9f9261ffe047",
   "metadata": {},
   "outputs": [
    {
     "data": {
      "text/plain": [
       "array([[ 0,  1,  2,  3,  4],\n",
       "       [ 5,  6,  7,  8,  9],\n",
       "       [10, 11, 12, 13, 14],\n",
       "       [15, 16, 17, 18, 19],\n",
       "       [20, 21, 22, 23, 24]])"
      ]
     },
     "execution_count": 29,
     "metadata": {},
     "output_type": "execute_result"
    }
   ],
   "source": [
    "arr.reshape(5,5)"
   ]
  },
  {
   "cell_type": "code",
   "execution_count": 31,
   "id": "6d0f4f2a-16dc-4a56-ad89-1e395c78aec0",
   "metadata": {},
   "outputs": [
    {
     "data": {
      "text/plain": [
       "array([18, 43, 12, 23, 34, 30, 41, 17, 11], dtype=int32)"
      ]
     },
     "execution_count": 31,
     "metadata": {},
     "output_type": "execute_result"
    }
   ],
   "source": [
    "ranarr2 = np.random.randint(0,50,9)\n",
    "\n",
    "ranarr2"
   ]
  },
  {
   "cell_type": "code",
   "execution_count": 32,
   "id": "73c4dce1-04f6-4b2a-9a23-9285eef359ea",
   "metadata": {},
   "outputs": [
    {
     "data": {
      "text/plain": [
       "array([[18, 43, 12],\n",
       "       [23, 34, 30],\n",
       "       [41, 17, 11]], dtype=int32)"
      ]
     },
     "execution_count": 32,
     "metadata": {},
     "output_type": "execute_result"
    }
   ],
   "source": [
    "ranarr2.reshape(3,3)"
   ]
  },
  {
   "cell_type": "markdown",
   "id": "5fb1cec1-f717-4815-ae03-46cef54e647a",
   "metadata": {},
   "source": [
    "02 max,min,argmax,argmin\n",
    "------------------------\n",
    "    These are useful methods for finding max or min values. Or to find their index locations using argmin or argmax"
   ]
  },
  {
   "cell_type": "code",
   "execution_count": 33,
   "id": "2fb42529-3c94-4f9e-8c0f-b3ba82ff3d9b",
   "metadata": {},
   "outputs": [
    {
     "data": {
      "text/plain": [
       "array([27, 31,  8, 24, 41,  3, 18, 42, 42, 40], dtype=int32)"
      ]
     },
     "execution_count": 33,
     "metadata": {},
     "output_type": "execute_result"
    }
   ],
   "source": [
    "ranarr"
   ]
  },
  {
   "cell_type": "code",
   "execution_count": 34,
   "id": "6998940a-be82-451e-a3bd-e061003f9236",
   "metadata": {},
   "outputs": [
    {
     "data": {
      "text/plain": [
       "np.int32(42)"
      ]
     },
     "execution_count": 34,
     "metadata": {},
     "output_type": "execute_result"
    }
   ],
   "source": [
    "ranarr.max()"
   ]
  },
  {
   "cell_type": "code",
   "execution_count": null,
   "id": "44cf0a1a-34c3-4ee4-b679-5b503cb95ce3",
   "metadata": {},
   "outputs": [],
   "source": []
  }
 ],
 "metadata": {
  "kernelspec": {
   "display_name": "Python 3 (ipykernel)",
   "language": "python",
   "name": "python3"
  },
  "language_info": {
   "codemirror_mode": {
    "name": "ipython",
    "version": 3
   },
   "file_extension": ".py",
   "mimetype": "text/x-python",
   "name": "python",
   "nbconvert_exporter": "python",
   "pygments_lexer": "ipython3",
   "version": "3.11.7"
  }
 },
 "nbformat": 4,
 "nbformat_minor": 5
}
