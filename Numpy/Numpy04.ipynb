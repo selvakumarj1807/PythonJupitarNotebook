{
 "cells": [
  {
   "cell_type": "markdown",
   "id": "cbe59e75-553c-44b2-ac5d-3c144c7ca3e4",
   "metadata": {},
   "source": [
    "Python Numpy Read and Write Text Files\n",
    "--------------------------------------"
   ]
  },
  {
   "cell_type": "code",
   "execution_count": 1,
   "id": "ec9f54cd-b183-4395-a633-512ed37af30d",
   "metadata": {},
   "outputs": [],
   "source": [
    "import numpy as np"
   ]
  },
  {
   "cell_type": "code",
   "execution_count": 16,
   "id": "1d7b3371-e478-400c-a6b2-bf98e2f947dd",
   "metadata": {},
   "outputs": [],
   "source": [
    "x = np.array([[1,2,3],\n",
    "              [4,5,6],\n",
    "              [7,8,9]], np.int32)"
   ]
  },
  {
   "cell_type": "code",
   "execution_count": 18,
   "id": "51e058dd-17b7-4b9a-aa8c-3a997f4a49e6",
   "metadata": {},
   "outputs": [],
   "source": [
    "np.savetxt(\"test.txt\", x)"
   ]
  },
  {
   "cell_type": "code",
   "execution_count": 19,
   "id": "2aa83e2b-f388-4c2f-8bca-e7be34b99b83",
   "metadata": {},
   "outputs": [
    {
     "name": "stdout",
     "output_type": "stream",
     "text": [
      "[[1. 2. 3.]\n",
      " [4. 5. 6.]\n",
      " [7. 8. 9.]]\n"
     ]
    }
   ],
   "source": [
    "y = np.loadtxt('test.txt')\n",
    "\n",
    "print(y)"
   ]
  },
  {
   "cell_type": "code",
   "execution_count": null,
   "id": "b74abfa8-63eb-43bf-b735-dacc157cf7f5",
   "metadata": {},
   "outputs": [],
   "source": []
  }
 ],
 "metadata": {
  "kernelspec": {
   "display_name": "Python 3 (ipykernel)",
   "language": "python",
   "name": "python3"
  },
  "language_info": {
   "codemirror_mode": {
    "name": "ipython",
    "version": 3
   },
   "file_extension": ".py",
   "mimetype": "text/x-python",
   "name": "python",
   "nbconvert_exporter": "python",
   "pygments_lexer": "ipython3",
   "version": "3.11.7"
  }
 },
 "nbformat": 4,
 "nbformat_minor": 5
}
